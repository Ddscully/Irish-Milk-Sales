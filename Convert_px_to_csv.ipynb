{
 "cells": [
  {
   "cell_type": "markdown",
   "metadata": {},
   "source": [
    "# Create csv file from px file"
   ]
  },
  {
   "cell_type": "markdown",
   "metadata": {},
   "source": [
    "Data retrived from https://data.gov.ie/dataset/milk-sales-dairy-for-human-consumption-million-litres-by-month-and-type-of-milk is in px format. There is an existing package in R to load this type of file to a dataframe"
   ]
  },
  {
   "cell_type": "code",
   "execution_count": 1,
   "metadata": {},
   "outputs": [
    {
     "name": "stderr",
     "output_type": "stream",
     "text": [
      "also installing the dependency ‘RJSONIO’\n",
      "\n",
      "Updating HTML index of packages in '.Library'\n",
      "Making 'packages.html' ... done\n",
      "Loading required package: stringr\n",
      "Loading required package: reshape2\n",
      "Loading required package: RJSONIO\n",
      "Loading required package: plyr\n"
     ]
    }
   ],
   "source": [
    "install.packages('pxR')\n",
    "library('pxR')"
   ]
  },
  {
   "cell_type": "code",
   "execution_count": 2,
   "metadata": {},
   "outputs": [],
   "source": [
    "pxmilkfile <- read.px(\"./data/AKM02.px\")"
   ]
  },
  {
   "cell_type": "code",
   "execution_count": 3,
   "metadata": {},
   "outputs": [],
   "source": [
    "milkdf <-  as.data.frame(pxmilkfile)"
   ]
  },
  {
   "cell_type": "code",
   "execution_count": 4,
   "metadata": {},
   "outputs": [
    {
     "data": {
      "text/html": [
       "<table>\n",
       "<thead><tr><th></th><th scope=col>Type.of.Milk</th><th scope=col>Month</th><th scope=col>value</th></tr></thead>\n",
       "<tbody>\n",
       "\t<tr><th scope=row>2255</th><td>Semi-skimmed milk            </td><td>2017M07                      </td><td>15.8                         </td></tr>\n",
       "\t<tr><th scope=row>2256</th><td>All Milk                     </td><td>2017M08                      </td><td>45.2                         </td></tr>\n",
       "\t<tr><th scope=row>2257</th><td>Whole Milk                   </td><td>2017M08                      </td><td>27.4                         </td></tr>\n",
       "\t<tr><th scope=row>2258</th><td>Skimmed and Semi-skimmed milk</td><td>2017M08                      </td><td>17.8                         </td></tr>\n",
       "\t<tr><th scope=row>2259</th><td>Skimmed Milk                 </td><td>2017M08                      </td><td> 1.7                         </td></tr>\n",
       "\t<tr><th scope=row>2260</th><td>Semi-skimmed milk            </td><td>2017M08                      </td><td>16.1                         </td></tr>\n",
       "</tbody>\n",
       "</table>\n"
      ],
      "text/latex": [
       "\\begin{tabular}{r|lll}\n",
       "  & Type.of.Milk & Month & value\\\\\n",
       "\\hline\n",
       "\t2255 & Semi-skimmed milk             & 2017M07                       & 15.8                         \\\\\n",
       "\t2256 & All Milk                      & 2017M08                       & 45.2                         \\\\\n",
       "\t2257 & Whole Milk                    & 2017M08                       & 27.4                         \\\\\n",
       "\t2258 & Skimmed and Semi-skimmed milk & 2017M08                       & 17.8                         \\\\\n",
       "\t2259 & Skimmed Milk                  & 2017M08                       &  1.7                         \\\\\n",
       "\t2260 & Semi-skimmed milk             & 2017M08                       & 16.1                         \\\\\n",
       "\\end{tabular}\n"
      ],
      "text/markdown": [
       "\n",
       "| <!--/--> | Type.of.Milk | Month | value | \n",
       "|---|---|---|---|---|---|\n",
       "| 2255 | Semi-skimmed milk             | 2017M07                       | 15.8                          | \n",
       "| 2256 | All Milk                      | 2017M08                       | 45.2                          | \n",
       "| 2257 | Whole Milk                    | 2017M08                       | 27.4                          | \n",
       "| 2258 | Skimmed and Semi-skimmed milk | 2017M08                       | 17.8                          | \n",
       "| 2259 | Skimmed Milk                  | 2017M08                       |  1.7                          | \n",
       "| 2260 | Semi-skimmed milk             | 2017M08                       | 16.1                          | \n",
       "\n",
       "\n"
      ],
      "text/plain": [
       "     Type.of.Milk                  Month   value\n",
       "2255 Semi-skimmed milk             2017M07 15.8 \n",
       "2256 All Milk                      2017M08 45.2 \n",
       "2257 Whole Milk                    2017M08 27.4 \n",
       "2258 Skimmed and Semi-skimmed milk 2017M08 17.8 \n",
       "2259 Skimmed Milk                  2017M08  1.7 \n",
       "2260 Semi-skimmed milk             2017M08 16.1 "
      ]
     },
     "metadata": {},
     "output_type": "display_data"
    }
   ],
   "source": [
    "tail(milkdf)"
   ]
  },
  {
   "cell_type": "code",
   "execution_count": 5,
   "metadata": {},
   "outputs": [],
   "source": [
    "write.csv( milkdf, \"./data/AKM02.csv\")"
   ]
  }
 ],
 "metadata": {
  "kernelspec": {
   "display_name": "R",
   "language": "R",
   "name": "ir"
  },
  "language_info": {
   "codemirror_mode": "r",
   "file_extension": ".r",
   "mimetype": "text/x-r-source",
   "name": "R",
   "pygments_lexer": "r",
   "version": "3.3.2"
  }
 },
 "nbformat": 4,
 "nbformat_minor": 2
}
